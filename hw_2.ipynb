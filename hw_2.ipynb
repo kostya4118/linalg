{
  "nbformat": 4,
  "nbformat_minor": 0,
  "metadata": {
    "colab": {
      "name": "hw_2.ipynb",
      "provenance": []
    },
    "kernelspec": {
      "name": "python3",
      "display_name": "Python 3"
    },
    "language_info": {
      "name": "python"
    }
  },
  "cells": [
    {
      "cell_type": "markdown",
      "metadata": {
        "id": "SwwcNeLkHCY5"
      },
      "source": [
        "# Часть 1\n",
        "\n",
        "__1.__ Установить, какие произведения матриц $AB$ и $BA$ определены, и найти размерности полученных матриц:\n",
        "\n",
        "   а) $A$ — матрица $4\\times 2$, $B$ — матрица $4\\times 2$; \\\\\n",
        "   $AB$ не определено, т.к. число столбцов матрицы  𝐴  не равно числу строк матрицы  𝐵 . \\\\\n",
        "   $BA$ не определено, т.к. число столбцов матрицы  B  не равно числу строк матрицы  A.\n",
        "    \n",
        "   б) $A$ — матрица $2\\times 5$, $B$ — матрица $5\\times 3$; \\\\\n",
        "   $AB$ определено, т.к. число столбцов матрицы  𝐴  равно числу строк матрицы  𝐵. Размерность полученной матрицыы $2\\times 3$. \\\\\n",
        "   $BA$ не определено, т.к. число столбцов матрицы  B  не равно числу строк матрицы  A.\n",
        "    \n",
        "   в) $A$ — матрица $8\\times 3$, $B$ — матрица $3\\times 8$; \\\\\n",
        "   $AB$ определено, т.к. число столбцов матрицы  𝐴  равно числу строк матрицы  𝐵. Размерность полученной матрицыы $8\\times 8$. \\\\\n",
        "   $BA$ определено, т.к. число столбцов матрицы  B  равно числу строк матрицы  A. Размерность полученной матрицыы $3\\times 3$. \\\\\n",
        "    \n",
        "   г) $A$ — квадратная матрица $4\\times 4$, $B$ — квадратная матрица $4\\times 4$. \\\\\n",
        "   $AB$ определено, т.к. число столбцов матрицы  𝐴  равно числу строк матрицы  𝐵. Размерность полученной матрицыы $4\\times 4$. \\\\\n",
        "   $BA$ определено, т.к. число столбцов матрицы  B  равно числу строк матрицы  A. Размерность полученной матрицыы $4\\times 4$. \\\\"
      ]
    },
    {
      "cell_type": "markdown",
      "metadata": {
        "id": "luzXms5ZKT86"
      },
      "source": [
        "__2.__ Найти сумму и произведение матриц $A=\\begin{pmatrix}\n",
        "1 & -2\\\\ \n",
        "3 & 0\n",
        "\\end{pmatrix}$ и $B=\\begin{pmatrix}\n",
        "4 & -1\\\\ \n",
        "0 & 5\n",
        "\\end{pmatrix}.$ \\\\\n",
        "$A+B=\\begin{pmatrix}\n",
        "1+4 & -2+(-1)\\\\ \n",
        "3+0 & 0+5\n",
        "\\end{pmatrix}=\\begin{pmatrix}\n",
        "5 & -3\\\\ \n",
        "3 & 5\n",
        "\\end{pmatrix}$ \\\\\n",
        "$AB=\\begin{pmatrix}\n",
        "1\\cdot4+(-2)\\cdot0 & 1\\cdot(-1)+(-2)\\cdot5\\\\ \n",
        "3\\cdot4+0\\cdot0 & 3\\cdot(-1)+0\\cdot5\n",
        "\\end{pmatrix}=\\begin{pmatrix}\n",
        "4 & -11\\\\ \n",
        "12 & -3\n",
        "\\end{pmatrix}$ \\\\\n",
        "$BA=\\begin{pmatrix}\n",
        "4\\cdot1+(-1)\\cdot3 & 4\\cdot(-2)+(-1)\\cdot0\\\\ \n",
        "0\\cdot1+5\\cdot3 & 0\\cdot(-2)+5\\cdot0\n",
        "\\end{pmatrix}=\\begin{pmatrix}\n",
        "1 & -8\\\\ \n",
        "15 & 0\n",
        "\\end{pmatrix}$"
      ]
    },
    {
      "cell_type": "code",
      "metadata": {
        "id": "R_9kV7XxGm73"
      },
      "source": [
        "import numpy as np"
      ],
      "execution_count": null,
      "outputs": []
    },
    {
      "cell_type": "code",
      "metadata": {
        "colab": {
          "base_uri": "https://localhost:8080/"
        },
        "id": "kGOZ7B7aNP5H",
        "outputId": "e9e9ec0c-841b-47b4-b7c6-925be4001731"
      },
      "source": [
        "A=np.array([[1,-2],[3,0]])\n",
        "B=np.array([[4,-1],[0,5]])\n",
        "\n",
        "print(f'A+B=\\n{A+B}')\n",
        "print(f'AB=\\n{np.dot(A, B)}')\n",
        "print(f'BA=\\n{np.dot(B, A)}')"
      ],
      "execution_count": null,
      "outputs": [
        {
          "output_type": "stream",
          "name": "stdout",
          "text": [
            "A+B=\n",
            "[[ 5 -3]\n",
            " [ 3  5]]\n",
            "AB=\n",
            "[[  4 -11]\n",
            " [ 12  -3]]\n",
            "BA=\n",
            "[[ 1 -8]\n",
            " [15  0]]\n"
          ]
        }
      ]
    },
    {
      "cell_type": "markdown",
      "metadata": {
        "id": "COw9wRpIOalO"
      },
      "source": [
        "__3.__ Из закономерностей сложения и умножения матриц на число можно сделать вывод, что матрицы одного размера образуют линейное пространство. Вычислить линейную комбинацию $3A-2B+4C$ для матриц $A=\\begin{pmatrix}\n",
        "1 & 7\\\\ \n",
        "3 & -6\n",
        "\\end{pmatrix}$, $B=\\begin{pmatrix}\n",
        "0 & 5\\\\ \n",
        "2 & -1\n",
        "\\end{pmatrix}$, $C=\\begin{pmatrix}\n",
        "2 & -4\\\\ \n",
        "1 & 1\n",
        "\\end{pmatrix}.$ \\\\\n",
        "$3A-2B+4C=3\\cdot\\begin{pmatrix}\n",
        "1 & 7\\\\ \n",
        "3 & -6\n",
        "\\end{pmatrix}-2\\cdot\\begin{pmatrix}\n",
        "0 & 5\\\\ \n",
        "2 & -1\n",
        "\\end{pmatrix}+4\\cdot\\begin{pmatrix}\n",
        "2 & -4\\\\ \n",
        "1 & 1\n",
        "\\end{pmatrix}=\\begin{pmatrix}\n",
        "3 & 21\\\\ \n",
        "9 & -18\n",
        "\\end{pmatrix}+\\begin{pmatrix}\n",
        "0 & -10\\\\ \n",
        "-4 & 2\n",
        "\\end{pmatrix}+\\begin{pmatrix}\n",
        "8 & -16\\\\ \n",
        "4 & 4\n",
        "\\end{pmatrix}=\\begin{pmatrix}\n",
        "11 & -5\\\\ \n",
        "9 & -12\n",
        "\\end{pmatrix}$"
      ]
    },
    {
      "cell_type": "code",
      "metadata": {
        "colab": {
          "base_uri": "https://localhost:8080/"
        },
        "id": "jP-DX0-AQsM2",
        "outputId": "40b14c4b-3815-4d40-ad10-bfd233bd639d"
      },
      "source": [
        "A = np.array([[1,7],[3, -6]])\n",
        "B = np.array([[0,5],[2, -1]])\n",
        "C = np.array([[2,-4],[1, 1]])\n",
        "\n",
        "print(f'3A-2B+4C=\\n{3*A - 2*B + 4*C}')"
      ],
      "execution_count": null,
      "outputs": [
        {
          "output_type": "stream",
          "name": "stdout",
          "text": [
            "3A-2B+4C=\n",
            "[[ 11  -5]\n",
            " [  9 -12]]\n"
          ]
        }
      ]
    },
    {
      "cell_type": "markdown",
      "metadata": {
        "id": "rvqRCDiSW-4E"
      },
      "source": [
        "__4.__ Дана матрица $A=\\begin{pmatrix}\n",
        "4 & 1\\\\ \n",
        "5 & -2\\\\ \n",
        "2 & 3\n",
        "\\end{pmatrix}$.\n",
        "Вычислить $AA^{T}$ и $A^{T}A$. \\\\\n",
        "$A^T=\\begin{pmatrix}\n",
        "4 & 5 & 2\\\\ \n",
        "1 & -2 & 3\n",
        "\\end{pmatrix}$ \\\\\n",
        "$AA^{T}=\\begin{pmatrix}\n",
        "4\\cdot4+1\\cdot1 & 4\\cdot5+1\\cdot(-2) & 4\\cdot2+1\\cdot3\\\\ \n",
        "5\\cdot4+(-2)\\cdot1 & 5\\cdot5+(-2)\\cdot(-2) & 5\\cdot2+(-2)\\cdot3\\\\ \n",
        "2\\cdot4+3\\cdot1 & 2\\cdot5+3\\cdot(-2) & 2\\cdot2+3\\cdot3\n",
        "\\end{pmatrix}=\\begin{pmatrix}\n",
        "17 & 18 & 11\\\\ \n",
        "18 & 29 & 4\\\\ \n",
        "11 & 4 & 13\n",
        "\\end{pmatrix}$ \\\\\n",
        "$A^{T}A=\\begin{pmatrix}\n",
        "4\\cdot4+5\\cdot5+2\\cdot2 & 4\\cdot1+5\\cdot(-2)+2\\cdot3\\\\ \n",
        "1\\cdot4+(-2)\\cdot5+3\\cdot2 & 1\\cdot1+(-2)\\cdot(-2)+3\\cdot3\n",
        "\\end{pmatrix}=\\begin{pmatrix}\n",
        "45 & 0\\\\ \n",
        "0 & 14\n",
        "\\end{pmatrix}$"
      ]
    },
    {
      "cell_type": "code",
      "metadata": {
        "colab": {
          "base_uri": "https://localhost:8080/"
        },
        "id": "tD4ulBUni82y",
        "outputId": "ea5d82f1-240b-4741-f5bd-8c4cbdca0c71"
      },
      "source": [
        "A = np.array([[4,1],[5, -2],[2,3]])\n",
        "print(f'A.T=\\n{A.T}')\n",
        "print(f'A*A.T=\\n{np.dot(A,A.T)}')\n",
        "print(f'A.T*A=\\n{np.dot(A.T,A)}')"
      ],
      "execution_count": null,
      "outputs": [
        {
          "output_type": "stream",
          "name": "stdout",
          "text": [
            "A.T=\n",
            "[[ 4  5  2]\n",
            " [ 1 -2  3]]\n",
            "A*A.T=\n",
            "[[17 18 11]\n",
            " [18 29  4]\n",
            " [11  4 13]]\n",
            "A.T*A=\n",
            "[[45  0]\n",
            " [ 0 14]]\n"
          ]
        }
      ]
    },
    {
      "cell_type": "markdown",
      "metadata": {
        "id": "91WCzRJzl7RV"
      },
      "source": [
        "__5*.__ Написать на Python функцию для перемножения двух произвольных матриц, не используя NumPy."
      ]
    },
    {
      "cell_type": "code",
      "metadata": {
        "colab": {
          "base_uri": "https://localhost:8080/"
        },
        "id": "WSRQMMZql9F7",
        "outputId": "62c64505-7940-4bf3-aceb-f7942dde3cf2"
      },
      "source": [
        "def multimatrix(a, b):\n",
        "    a_rows = len(a)\n",
        "    a_cols = len(a[0])\n",
        "    b_rows = len(b)\n",
        "    b_cols = len(b[0])\n",
        "    if a_cols == b_rows:\n",
        "        c = [[0]*b_cols for i in range(a_rows)]\n",
        "        for i in range(a_rows):\n",
        "            for j in range(b_cols):\n",
        "                for k in range(a_cols):\n",
        "                    c[i][j] += a[i][k] * b[k][j]\n",
        "        return np.array(c)\n",
        "    else:\n",
        "        return f'Число столбцов матрицы  𝐴  не равно числу строк матрицы  𝐵. Поизведение не может быть определено!'\n",
        "\n",
        "\n",
        "A = np.array([[1,7],[3, -6],[2, -1]])\n",
        "B = np.array([[0,5],[2, -1]])\n",
        "\n",
        "print(multimatrix(A, B))\n",
        "\n"
      ],
      "execution_count": null,
      "outputs": [
        {
          "output_type": "stream",
          "name": "stdout",
          "text": [
            "[[ 14  -2]\n",
            " [-12  21]\n",
            " [ -2  11]]\n"
          ]
        }
      ]
    },
    {
      "cell_type": "markdown",
      "metadata": {
        "id": "B1VpvmdUyeDR"
      },
      "source": [
        "# Часть 2\n",
        "\n",
        "__1.__ Вычислить определитель:\n",
        "\n",
        "   a)\n",
        "\n",
        "$$\\begin{vmatrix}\n",
        "sinx & -cosx\\\\ \n",
        "cosx & sinx\n",
        "\\end{vmatrix};$$\n",
        "$\\begin{vmatrix}\n",
        "sinx & -cosx\\\\ \n",
        "cosx & sinx\n",
        "\\end{vmatrix}=sin x\\cdot sin x - (-cos x)\\cdot cos x= sin^2x+cos^2x=1$\n",
        "\n",
        "   б)\n",
        "    \n",
        "$$\\begin{vmatrix}\n",
        "4 & 2 & 3\\\\ \n",
        "0 & 5 & 1\\\\ \n",
        "0 & 0 & 9\n",
        "\\end{vmatrix};$$\n",
        "Определитель матрицы треугольного вида равен произведению элементов, стоящих на ее главной диагонали: \\\\\n",
        "$\\begin{vmatrix}\n",
        "4 & 2 & 3\\\\ \n",
        "0 & 5 & 1\\\\ \n",
        "0 & 0 & 9\n",
        "\\end{vmatrix};=4\\cdot5\\cdot9=180$\n",
        "    \n",
        "   в)\n",
        "\n",
        "$$\\begin{vmatrix}\n",
        "1 & 2 & 3\\\\ \n",
        "4 & 5 & 6\\\\ \n",
        "7 & 8 & 9\n",
        "\\end{vmatrix}$$\n",
        "$\\begin{vmatrix}\n",
        "1 & 2 & 3\\\\ \n",
        "4 & 5 & 6\\\\ \n",
        "7 & 8 & 9\n",
        "\\end{vmatrix}=1\\cdot\\begin{vmatrix}\n",
        "5 & 6\\\\ \n",
        "8 & 9\n",
        "\\end{vmatrix};-2\\cdot\\begin{vmatrix}\n",
        "4 & 6\\\\ \n",
        "7 & 9\n",
        "\\end{vmatrix};+3\\cdot\\begin{vmatrix}\n",
        "4 & 5\\\\ \n",
        "7 & 8\n",
        "\\end{vmatrix}=5\\cdot9-6\\cdot8-2\\cdot(4\\cdot9-6\\cdot7)+3\\cdot(4\\cdot8-5\\cdot7)=0$\n"
      ]
    },
    {
      "cell_type": "code",
      "metadata": {
        "colab": {
          "base_uri": "https://localhost:8080/"
        },
        "id": "OEJlfBzKENgR",
        "outputId": "eab3acbb-870e-4bb9-8df4-842149034060"
      },
      "source": [
        "a=np.array([[4,2,3],[0,5,1],[0,0,9]])\n",
        "b=np.array([[1,2,3],[4,5,6],[7,8,9]])\n",
        "\n",
        "print(f'Определитель для б: {np.linalg.det(a)}')\n",
        "print(f'Определитель для в: {np.linalg.det(b):.0f}')"
      ],
      "execution_count": null,
      "outputs": [
        {
          "output_type": "stream",
          "name": "stdout",
          "text": [
            "Определитель для б: 180.0\n",
            "Определитель для в: 0\n"
          ]
        }
      ]
    },
    {
      "cell_type": "markdown",
      "metadata": {
        "id": "a7gvInF6o0Qg"
      },
      "source": [
        "__2.__ Определитель матрицы $A$ равен $4$. Найти:\n",
        "\n"
      ]
    },
    {
      "cell_type": "markdown",
      "metadata": {
        "id": "rFPaYEd3o8JM"
      },
      "source": [
        "   а) $det(A^{2})=det(AA)=det(A)\\cdot det(A)=4\\cdot4=16$;\n",
        "    \n",
        "   б) $det(A^{T})=det(A)=4$;\n",
        "    \n",
        "   в) $det(2A)=2det(A)=2\\cdot4=8$."
      ]
    },
    {
      "cell_type": "markdown",
      "metadata": {
        "id": "2Re0oZbvtCku"
      },
      "source": [
        "__3.__  Доказать, что матрица\n",
        "\n",
        "$$\\begin{pmatrix}\n",
        "-2 & 7 & -3\\\\ \n",
        "4 & -14 & 6\\\\ \n",
        "-3 & 7 & 13\n",
        "\\end{pmatrix}$$\n",
        "   \n",
        "вырожденная."
      ]
    },
    {
      "cell_type": "markdown",
      "metadata": {
        "id": "rmlYAH1buMQk"
      },
      "source": [
        "Если две строки (столбца) матрицы линейно зависимы, то определитель этой матрицы равен нулю. В нашем случае вторая строка матрицы равна первой умноженной на $-2$,таким образом определитель данной матрицы равен нулю -- матрица вырожденная."
      ]
    },
    {
      "cell_type": "code",
      "metadata": {
        "colab": {
          "base_uri": "https://localhost:8080/"
        },
        "id": "f17KWLc2xgox",
        "outputId": "d50e13c3-f82c-4f58-c319-ef07a5bdd7ce"
      },
      "source": [
        "a=np.array([[-2,7,-3],[4,-14,6],[-3,7,13]])\n",
        "np.linalg.det(a)"
      ],
      "execution_count": null,
      "outputs": [
        {
          "output_type": "execute_result",
          "data": {
            "text/plain": [
              "0.0"
            ]
          },
          "metadata": {},
          "execution_count": 7
        }
      ]
    },
    {
      "cell_type": "markdown",
      "metadata": {
        "id": "NGGegw_6yBab"
      },
      "source": [
        "__4.__ Найти ранг матрицы:\n"
      ]
    },
    {
      "cell_type": "markdown",
      "metadata": {
        "id": "7jCTDsujzgvb"
      },
      "source": [
        "   а) $\\begin{pmatrix}\n",
        "1 & 2 & 3\\\\ \n",
        "1 & 1 & 1\\\\ \n",
        "2 & 3 & 4\n",
        "\\end{pmatrix}$ \\\\\n",
        "3 строка является суммой первых двух, ее можно отбросить. \\\\\n",
        "$\\begin{pmatrix}\n",
        "1 & 2 & 3\\\\ \n",
        "1 & 1 & 1\n",
        "\\end{pmatrix}$ \\\\\n",
        "Из 2 строки вычитаем 1. \\\\\n",
        "$\\begin{pmatrix}\n",
        "1 & 2 & 3\\\\ \n",
        "0 & -1 & -2\n",
        "\\end{pmatrix}$ \\\\\n",
        "Ранг матрицы равен 2."
      ]
    },
    {
      "cell_type": "markdown",
      "metadata": {
        "id": "m40QmbLb0oFA"
      },
      "source": [
        "   б) $\\begin{pmatrix}\n",
        "0 & 0 & 2 & 1\\\\ \n",
        "0 & 0 & 2 & 2\\\\ \n",
        "0 & 0 & 4 & 3\\\\ \n",
        "2 & 3 & 5 & 6\n",
        "\\end{pmatrix}$ \\\\\n",
        "3 строка является суммой первых двух, ее можно отбросить. \\\\\n",
        "$\\begin{pmatrix}\n",
        "0 & 0 & 2 & 1\\\\ \n",
        "0 & 0 & 2 & 2\\\\ \n",
        "2 & 3 & 5 & 6\n",
        "\\end{pmatrix}$ \\\\\n",
        "Меняем строки местами. \\\\\n",
        "$\\begin{pmatrix}\n",
        "2 & 3 & 5 & 6\\\\ \n",
        "0 & 0 & 2 & 1\\\\ \n",
        "0 & 0 & 2 & 2\n",
        "\\end{pmatrix}$ \\\\\n",
        "Ранг матрицы равен 3."
      ]
    },
    {
      "cell_type": "code",
      "metadata": {
        "colab": {
          "base_uri": "https://localhost:8080/"
        },
        "id": "nj6XnD502gRs",
        "outputId": "d7e24330-df14-4262-b094-a40d9ec1dc92"
      },
      "source": [
        "a=np.array([[1,2,3],[1,1,1],[2,3,4]])\n",
        "b=np.array([[0,0,2,1],[0,0,2,2],[0,0,4,3],[2,3,5,6]])\n",
        "\n",
        "print(f'Ранг матрицы а = {np.linalg.matrix_rank(a)}')\n",
        "print(f'Ранг матрицы б = {np.linalg.matrix_rank(b)}')"
      ],
      "execution_count": null,
      "outputs": [
        {
          "output_type": "stream",
          "name": "stdout",
          "text": [
            "Ранг матрицы а = 2\n",
            "Ранг матрицы б = 3\n"
          ]
        }
      ]
    }
  ]
}