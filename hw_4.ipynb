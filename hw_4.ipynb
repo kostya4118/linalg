{
  "nbformat": 4,
  "nbformat_minor": 0,
  "metadata": {
    "colab": {
      "name": "hw_4.ipynb",
      "provenance": []
    },
    "kernelspec": {
      "name": "python3",
      "display_name": "Python 3"
    },
    "language_info": {
      "name": "python"
    }
  },
  "cells": [
    {
      "cell_type": "markdown",
      "metadata": {
        "id": "va9fuufgXnGN"
      },
      "source": [
        "# Часть 1\n",
        "\n",
        "__1.__ Решить систему уравнений методом Гаусса:\n",
        "\n",
        "$$\\begin{cases}\n",
        "x_{1}+x_{2}-x_{3}-2x_{4}=0, \\\\\n",
        "2x_{1}+x_{2}-x_{3}+x_{4}=-2, \\\\\n",
        "x_{1}+x_{2}-3x_{3}+x_{4}=4.\n",
        "\\end{cases}$$"
      ]
    },
    {
      "cell_type": "markdown",
      "metadata": {
        "id": "YBD9quRkYKu5"
      },
      "source": [
        "$$\\begin{pmatrix}\n",
        "\\left.\\begin{matrix}\n",
        "1 & 1 & -1 & -2 \\\\ \n",
        "2 & 1 & -1 & 1 \\\\ \n",
        "1 & 1 & -3 & 1\n",
        "\\end{matrix}\\right|\n",
        "\\begin{matrix}\n",
        "0\\\\ \n",
        "-2\\\\\n",
        "4\n",
        "\\end{matrix}\n",
        "\\end{pmatrix}$$ \\\\\n",
        "$$\\begin{pmatrix}\n",
        "\\left.\\begin{matrix}\n",
        "1 & 1 & -1 & -2 \\\\ \n",
        "0 & -1 & 1 & 5 \\\\ \n",
        "0 & 0 & -2 & 3\n",
        "\\end{matrix}\\right|\n",
        "\\begin{matrix}\n",
        "0\\\\ \n",
        "-2\\\\\n",
        "4\n",
        "\\end{matrix}\n",
        "\\end{pmatrix}$$ \\\\\n",
        "Система имеет бесконечное множество решений. Общее решение: \\\\\n",
        "$x_4=c$ \\\\\n",
        "$-2x_3+3c=4 \\; \\Leftrightarrow \\; x_3=1,5c-2$ \\\\\n",
        "$-x_2+1,5c-2+5c=-2 \\; \\Leftrightarrow \\; x_2=6,5c$ \\\\\n",
        "$x_1+6,5c-1,5c+2-2c=0 \\; \\Leftrightarrow \\; x_1=-3c-2$ \\\\\n",
        "Подставляя произвольные числа вместо $c$, мы получим _частное решение_. Например, при $c=0$:\n",
        "\n",
        "$x_{1}=-2,$\n",
        "$x_{2}=0,$\n",
        "$x_{3}=-2,$\n",
        "$x_{4}=0$"
      ]
    },
    {
      "cell_type": "markdown",
      "metadata": {
        "id": "9SUa4pgLk75_"
      },
      "source": [
        "__2.__ Проверить на совместность и выяснить, сколько решений будет иметь система линейных уравнений:\n",
        "\n",
        "\n",
        "    \n",
        "\n",
        "    \n"
      ]
    },
    {
      "cell_type": "markdown",
      "metadata": {
        "id": "cYo4v7QDmQ2o"
      },
      "source": [
        "   а) $\\begin{cases}\n",
        "3x_{1}-x_{2}+x_{3}=4, \\\\\n",
        "2x_{1}-5x_{2}-3x_{3}=-17, \\\\\n",
        "x_{1}+x_{2}-x_{3}=0;\n",
        "\\end{cases}$"
      ]
    },
    {
      "cell_type": "code",
      "metadata": {
        "id": "PyOgpKUfmRP3"
      },
      "source": [
        "import numpy as np\n",
        "def sovmest(a, a_):\n",
        "    rank_a = np.linalg.matrix_rank(a)\n",
        "    rank_a_ = np.linalg.matrix_rank(a_)\n",
        "    if rank_a < rank_a_:\n",
        "        print(f'Ранг матрицы А: {rank_a}\\nРанг расширенной матрицы А: {rank_a_}\\nСистема несовместна')\n",
        "    elif rank_a == len(a[0]):\n",
        "        print(f'Ранг матрицы А: {rank_a}\\nРанг расширенной матрицы А: {rank_a_}\\nКоличество переменных: {len(a[0])}\\nСистема определена, т. е. имеет единственное решение')\n",
        "    else:\n",
        "        print(f'Ранг матрицы А: {rank_a}\\nРанг расширенной матрицы А: {rank_a_}\\nКоличество переменных: {len(a[0])}\\nСистема имеет бесконечное количество решений')"
      ],
      "execution_count": null,
      "outputs": []
    },
    {
      "cell_type": "code",
      "metadata": {
        "colab": {
          "base_uri": "https://localhost:8080/"
        },
        "id": "-xbx1gdl9wVQ",
        "outputId": "e74643c6-465a-46d1-b6ad-a32180dedaba"
      },
      "source": [
        "A = np.array([[3,-1,1],[2,-5,-3],[1,1,-1]])\n",
        "A_ = np.array([[3,-1,1,4],[2,-5,-3,-17],[1,1,-1,0]])\n",
        "\n",
        "sovmest(A, A_)"
      ],
      "execution_count": null,
      "outputs": [
        {
          "output_type": "stream",
          "name": "stdout",
          "text": [
            "Ранг матрицы А: 3\n",
            "Ранг расширенной матрицы А: 3\n",
            "Количество переменных: 3\n",
            "Система определена, т. е. имеет единственное решение\n"
          ]
        }
      ]
    },
    {
      "cell_type": "markdown",
      "metadata": {
        "id": "MI14c0w__IWa"
      },
      "source": [
        "   б) $\\begin{cases}\n",
        "2x_{1}-4x_{2}+6x_{3}=1, \\\\\n",
        "x_{1}-2x_{2}+3x_{3}=-2, \\\\\n",
        "3x_{1}-6x_{2}+9x_{3}=5;\n",
        "\\end{cases}$"
      ]
    },
    {
      "cell_type": "code",
      "metadata": {
        "colab": {
          "base_uri": "https://localhost:8080/"
        },
        "id": "3e4MiZJ1_LuY",
        "outputId": "2471536f-76b0-4832-bcbf-c4dd40aa076e"
      },
      "source": [
        "A = np.array([[2,-4,6],[1,-2,3],[3,-6,9]])\n",
        "A_ = np.array([[2,-4,6,1],[1,-2,3,-2],[3,-6,9,5]])\n",
        "\n",
        "sovmest(A, A_)"
      ],
      "execution_count": null,
      "outputs": [
        {
          "output_type": "stream",
          "name": "stdout",
          "text": [
            "Ранг матрицы А: 1\n",
            "Ранг расширенной матрицы А: 2\n",
            "Система несовместна\n"
          ]
        }
      ]
    },
    {
      "cell_type": "markdown",
      "metadata": {
        "id": "8ZYVIIqCAomx"
      },
      "source": [
        "   в) $\\begin{cases}\n",
        "x_{1}+2x_{2}+5x_{3}=4, \\\\\n",
        "3x_{1}+x_{2}-8x_{3}=-2. \n",
        "\\end{cases}$"
      ]
    },
    {
      "cell_type": "code",
      "metadata": {
        "colab": {
          "base_uri": "https://localhost:8080/"
        },
        "id": "SOvPlz7pArjT",
        "outputId": "7762605c-a84b-49f2-f369-d2a7b3415a60"
      },
      "source": [
        "A = np.array([[1,2,5],[3,1,-8]])\n",
        "A_ = np.array([[1,2,5,4],[3,1,-8,-2]])\n",
        "\n",
        "sovmest(A, A_)"
      ],
      "execution_count": null,
      "outputs": [
        {
          "output_type": "stream",
          "name": "stdout",
          "text": [
            "Ранг матрицы А: 2\n",
            "Ранг расширенной матрицы А: 2\n",
            "Количество переменных: 3\n",
            "Система имеет бесконечное количество решений\n"
          ]
        }
      ]
    },
    {
      "cell_type": "markdown",
      "metadata": {
        "id": "rKIDvijhCqUh"
      },
      "source": [
        "__3.__ Проверить на совместность и выяснить, сколько решений будет иметь система линейных уравнений, заданная расширенной матрицей\n",
        "\n",
        "$$\\tilde{A}=\\begin{pmatrix}\n",
        "\\left.\\begin{matrix}\n",
        "1 & 3 & -2 & 4\\\\ \n",
        "0 & 5 & 0 & 1\\\\ \n",
        "0 & 0 & 3 & 0\\\\ \n",
        "0 & 0 & 0 & 2\n",
        "\\end{matrix}\\right|\n",
        "\\begin{matrix}\n",
        "3\\\\ \n",
        "2\\\\\n",
        "4\\\\\n",
        "1\n",
        "\\end{matrix}\n",
        "\\end{pmatrix}.$$"
      ]
    },
    {
      "cell_type": "code",
      "metadata": {
        "colab": {
          "base_uri": "https://localhost:8080/"
        },
        "id": "soUborXlCvai",
        "outputId": "cd753425-a25e-446a-c7f2-c54b7d5259f8"
      },
      "source": [
        "A = np.array([[1,3,-2,4],[0,5,0,1],[0,0,3,0],[0,0,0,2]])\n",
        "A_ = np.array([[1,3,-2,4,3],[0,5,0,1,2],[0,0,3,0,4],[0,0,0,2,1]])\n",
        "\n",
        "sovmest(A, A_)"
      ],
      "execution_count": null,
      "outputs": [
        {
          "output_type": "stream",
          "name": "stdout",
          "text": [
            "Ранг матрицы А: 4\n",
            "Ранг расширенной матрицы А: 4\n",
            "Количество переменных: 4\n",
            "Система определена, т. е. имеет единственное решение\n"
          ]
        }
      ]
    },
    {
      "cell_type": "markdown",
      "metadata": {
        "id": "V0p4hyyuD63n"
      },
      "source": [
        "__4.__ Дана система линейных уравнений, заданная расширенной матрицей\n",
        "\n",
        "$$\\tilde{A}=\\begin{pmatrix}\n",
        "\\left.\\begin{matrix}\n",
        "1 & 2 & 3\\\\ \n",
        "4 & 5 & 6\\\\ \n",
        "7 & 8 & 9\n",
        "\\end{matrix}\\right|\n",
        "\\begin{matrix}\n",
        "a\\\\ \n",
        "b\\\\\n",
        "c\n",
        "\\end{matrix}\n",
        "\\end{pmatrix}.$$\n",
        "\n",
        "Найти соотношение между параметрами $a$, $b$ и $c$, при которых система является несовместной."
      ]
    },
    {
      "cell_type": "markdown",
      "metadata": {
        "id": "hz1cPdPXESEO"
      },
      "source": [
        "$$\\tilde{A}=\\begin{pmatrix}\n",
        "\\left.\\begin{matrix}\n",
        "1 & 2 & 3\\\\ \n",
        "0 & -3 & -6\\\\ \n",
        "0 & -6 & -12\n",
        "\\end{matrix}\\right|\n",
        "\\begin{matrix}\n",
        "a\\\\ \n",
        "b-4a\\\\\n",
        "c-7a\n",
        "\\end{matrix}\n",
        "\\end{pmatrix},$$ \\\\\n",
        "$$\\tilde{A}=\\begin{pmatrix}\n",
        "\\left.\\begin{matrix}\n",
        "1 & 2 & 3\\\\ \n",
        "0 & -3 & -6\\\\ \n",
        "0 & 0 & 0\n",
        "\\end{matrix}\\right|\n",
        "\\begin{matrix}\n",
        "a\\\\ \n",
        "b-4a\\\\\n",
        "c-7a-2(b-4a)\n",
        "\\end{matrix}\n",
        "\\end{pmatrix},$$ \\\\\n",
        "$$\\tilde{A}=\\begin{pmatrix}\n",
        "\\left.\\begin{matrix}\n",
        "1 & 2 & 3\\\\ \n",
        "0 & -3 & -6\\\\ \n",
        "0 & 0 & 0\n",
        "\\end{matrix}\\right|\n",
        "\\begin{matrix}\n",
        "a\\\\ \n",
        "b-4a\\\\\n",
        "c+a-2b\n",
        "\\end{matrix}\n",
        "\\end{pmatrix},$$"
      ]
    },
    {
      "cell_type": "markdown",
      "metadata": {
        "id": "7P6h7CJdHx8w"
      },
      "source": [
        "Ранг матрицы $A$ равен 2. Система будет несовместной, если ранг расширеной матрицы $\\tilde A$ будет равен 3. Такое возможно при $c+a \\neq 2b$."
      ]
    },
    {
      "cell_type": "markdown",
      "metadata": {
        "id": "SiTHsYkPkGes"
      },
      "source": [
        "# Часть 2\n",
        "__1.__ Решить систему уравнений методом Крамера:\n",
        "\n",
        "   а) $\\begin{cases}\n",
        "x_{1}-2x_{2}=1 \\\\\n",
        "3x_{1}-4x_{2}=7\n",
        "\\end{cases}$\n",
        "    \n"
      ]
    },
    {
      "cell_type": "markdown",
      "metadata": {
        "id": "fmb2JF8XkXJA"
      },
      "source": [
        "$detA=\\begin{vmatrix}\n",
        "1 & -2\\\\ \n",
        "3 & -4\n",
        "\\end{vmatrix}=2 \\neq 0,$ \\\\\n",
        "следовательно, система совместна. \\\\\n",
        "$detA_1=\\begin{vmatrix}\n",
        "1 & -2\\\\ \n",
        "7 & -4\n",
        "\\end{vmatrix}=10,$ \\\\\n",
        "$detA_2=\\begin{vmatrix}\n",
        "1 & 1\\\\ \n",
        "3 & 7\n",
        "\\end{vmatrix}=4,$ \\\\\n",
        "$x_{1} = \\frac{detA_{1}}{detA} = \\frac{10}{2}=5,$\n",
        "\n",
        "$x_{2} = \\frac{detA_{2}}{detA} = \\frac{4}{2}=2.$"
      ]
    },
    {
      "cell_type": "markdown",
      "metadata": {
        "id": "_MdLi0KtkVVZ"
      },
      "source": [
        "   б) $\\begin{cases}\n",
        "2x_{1}-x_{2}+5x_{3}=10 \\\\\n",
        "x_{1}+x_{2}-3x_{3}=-2 \\\\\n",
        "2x_{1}+4x_{2}+x_{3}=1\n",
        "\\end{cases}$"
      ]
    },
    {
      "cell_type": "markdown",
      "metadata": {
        "id": "HvyQgLRZn9_G"
      },
      "source": [
        "$detA=\\begin{vmatrix}\n",
        "2 & -1 & 5\\\\ \n",
        "1 & 1 & -3\\\\\n",
        "2 & 4 & 1\n",
        "\\end{vmatrix}=(-1)\\cdot \\begin{vmatrix}\n",
        "-1 & 5\\\\ \n",
        "4 & 1\n",
        "\\end{vmatrix}+\\begin{vmatrix}\n",
        "2 & 5\\\\ \n",
        "2 & 1\n",
        "\\end{vmatrix}-(-3)\\cdot \\begin{vmatrix}\n",
        "2 & -1\\\\ \n",
        "2 & 4\n",
        "\\end{vmatrix}=21-8+30=43 \\neq 0,$ \\\\\n",
        "следовательно, система совместна. \\\\\n",
        "$detA_1=\\begin{vmatrix}\n",
        "10 & -1 & 5\\\\ \n",
        "-2 & 1 & -3\\\\\n",
        "1 & 4 & 1\n",
        "\\end{vmatrix}=\\begin{vmatrix}\n",
        "-1 & 5\\\\ \n",
        "1 & -3\n",
        "\\end{vmatrix}-4\\cdot \\begin{vmatrix}\n",
        "10 & 5\\\\ \n",
        "-2 & -3\n",
        "\\end{vmatrix}+ \\begin{vmatrix}\n",
        "10 & -1\\\\ \n",
        "-2 & 1\n",
        "\\end{vmatrix}=-2+80+8=86,$ \\\\\n",
        "$detA_2=\\begin{vmatrix}\n",
        "2 & 10 & 5\\\\ \n",
        "1 & -2 & -3\\\\\n",
        "2 & 1 & 1\n",
        "\\end{vmatrix}=2\\cdot \\begin{vmatrix}\n",
        "10 & 5\\\\ \n",
        "-2 & -3\n",
        "\\end{vmatrix}-\\begin{vmatrix}\n",
        "2 & 5\\\\ \n",
        "1 & -3\n",
        "\\end{vmatrix}+ \\begin{vmatrix}\n",
        "2 & 10\\\\ \n",
        "1 & -2\n",
        "\\end{vmatrix}=-40+11-14=-43,$ \\\\\n",
        "$detA_3=\\begin{vmatrix}\n",
        "2 & -1 & 10\\\\ \n",
        "1 & 1 & -2\\\\\n",
        "2 & 4 & 1\n",
        "\\end{vmatrix}=(-1)\\cdot \\begin{vmatrix}\n",
        "-1 & 10\\\\ \n",
        "4 & 1\n",
        "\\end{vmatrix}+\\begin{vmatrix}\n",
        "2 & 10\\\\ \n",
        "2 & 1\n",
        "\\end{vmatrix}-(-2)\\cdot \\begin{vmatrix}\n",
        "2 & -1\\\\ \n",
        "2 & 4\n",
        "\\end{vmatrix}=41-18+20=43,$ \\\\\n",
        "$x_{1} = \\frac{detA_{1}}{detA} = \\frac{1860}{43}=2,$\n",
        "\n",
        "$x_{2} = \\frac{detA_{2}}{detA} = \\frac{-43}{43}=-1,$\n",
        "\n",
        "$x_{3} = \\frac{detA_{3}}{detA} = \\frac{43}{43}=1.$"
      ]
    },
    {
      "cell_type": "markdown",
      "metadata": {
        "id": "xQdkbt4X0lEy"
      },
      "source": [
        "__2*.__ Найти $L$-матрицу $LU$-разложения для матрицы коэффициентов:\n",
        "\n",
        "   а)$$\\begin{pmatrix}\n",
        "1 & 2 & 4 \\\\ \n",
        "2 & 9 & 12 \\\\ \n",
        "3 & 26 & 30\n",
        "\\end{pmatrix}$$\n",
        "    \n"
      ]
    },
    {
      "cell_type": "markdown",
      "metadata": {
        "id": "s9f-2nC01gNY"
      },
      "source": [
        "$$U=\\begin{pmatrix}\n",
        "1 & 2 & 4 \\\\ \n",
        "0 & 5 & 4 \\\\ \n",
        "0 & 20 & 18\n",
        "\\end{pmatrix}, L=\\begin{pmatrix}\n",
        "1 & 0 & 0 \\\\ \n",
        "2 & 1 & 0 \\\\ \n",
        "3 & l_{32} & 1\n",
        "\\end{pmatrix},$$\n",
        "\n",
        "$$U=\\begin{pmatrix}\n",
        "1 & 2 & 4 \\\\ \n",
        "0 & 5 & 4 \\\\ \n",
        "0 & 0 & 2\n",
        "\\end{pmatrix}, L=\\begin{pmatrix}\n",
        "1 & 0 & 0 \\\\ \n",
        "2 & 1 & 0 \\\\ \n",
        "3 & 4 & 1\n",
        "\\end{pmatrix}$$\n",
        "\n"
      ]
    },
    {
      "cell_type": "markdown",
      "metadata": {
        "id": "lGr2hWSL0v1k"
      },
      "source": [
        "   б)$$\\begin{pmatrix}\n",
        "1 & 1 & 2 & 4\\\\ \n",
        "2 & 5 & 8 & 9\\\\ \n",
        "3 & 18 & 29 & 18\\\\\n",
        "4 & 22 & 53 & 33\n",
        "\\end{pmatrix}$$"
      ]
    },
    {
      "cell_type": "markdown",
      "metadata": {
        "id": "RhGhbc-K3KQz"
      },
      "source": [
        "$$U=\\begin{pmatrix}\n",
        "1 & 1 & 2 & 4\\\\ \n",
        "0 & 3 & 4 & 1\\\\ \n",
        "0 & 15 & 23 & 6\\\\\n",
        "0 & 18 & 45 & 17\n",
        "\\end{pmatrix}, L=\\begin{pmatrix}\n",
        "1 & 0 & 0 & 0 \\\\ \n",
        "2 & 1 & 0 & 0 \\\\ \n",
        "3 & l_{32} & 1 & 0 \\\\  \n",
        "4 & l_{42} & l_{43} & 1 \n",
        "\\end{pmatrix},$$\n",
        "\n",
        "$$U=\\begin{pmatrix}\n",
        "1 & 1 & 2 & 4\\\\ \n",
        "0 & 3 & 4 & 1\\\\ \n",
        "0 & 0 & 3 & 1\\\\\n",
        "0 & 0 & 21 & 11\n",
        "\\end{pmatrix}, L=\\begin{pmatrix}\n",
        "1 & 0 & 0 & 0 \\\\ \n",
        "2 & 1 & 0 & 0 \\\\ \n",
        "3 & 5 & 1 & 0 \\\\  \n",
        "4 & 6 & l_{43} & 1 \n",
        "\\end{pmatrix},$$\n",
        "\n",
        "$$U=\\begin{pmatrix}\n",
        "1 & 1 & 2 & 4\\\\ \n",
        "0 & 3 & 4 & 1\\\\ \n",
        "0 & 0 & 3 & 1\\\\\n",
        "0 & 0 & 0 & 4\n",
        "\\end{pmatrix}, L=\\begin{pmatrix}\n",
        "1 & 0 & 0 & 0 \\\\ \n",
        "2 & 1 & 0 & 0 \\\\ \n",
        "3 & 5 & 1 & 0 \\\\  \n",
        "4 & 6 & 7 & 1 \n",
        "\\end{pmatrix}$$"
      ]
    },
    {
      "cell_type": "markdown",
      "metadata": {
        "id": "07V0Jj7EDOKq"
      },
      "source": [
        "__3*.__ Решить систему линейных уравнений методом $LU$-разложения\n",
        "\n",
        "$$\\begin{cases}\n",
        "2x_{1}+x_{2}+3x_{3}=1 \\\\\n",
        "11x_{1}+7x_{2}+5x_{3}=-6 \\\\\n",
        "9x_{1}+8x_{2}+4x_{3}=-5\n",
        "\\end{cases}$$"
      ]
    },
    {
      "cell_type": "markdown",
      "metadata": {
        "id": "lbJFJfJADr-_"
      },
      "source": [
        "$$\\begin{pmatrix}\n",
        "2 & 1 & 3 \\\\ \n",
        "11 & 7 & 5 \\\\ \n",
        "9 & 8 & 4\n",
        "\\end{pmatrix}$$\n",
        "\n",
        "$$U=\\begin{pmatrix}\n",
        "2 & 1 & 3 \\\\ \n",
        "0 & 1,5 & -11,5 \\\\ \n",
        "0 & 3,5 & -9,5\n",
        "\\end{pmatrix}, L=\\begin{pmatrix}\n",
        "1 & 0 & 0 \\\\ \n",
        "5,5 & 1 & 0 \\\\ \n",
        "4,5 & l_{32} & 1\n",
        "\\end{pmatrix},$$\n",
        "\n",
        "$$U=\\begin{pmatrix}\n",
        "2 & 1 & 3 \\\\ \n",
        "0 & 1,5 & -11,5 \\\\ \n",
        "0 & 0 & 25\n",
        "\\end{pmatrix}, L=\\begin{pmatrix}\n",
        "1 & 0 & 0 \\\\ \n",
        "5,5 & 1 & 0 \\\\ \n",
        "4,5 & 3 & 1\n",
        "\\end{pmatrix}.$$\n",
        "\n",
        "$$Ly=b:$$\n",
        "\n",
        "$$\\begin{cases}\n",
        "y_{1}=1, \\\\\n",
        "5,5y_{1}+y_{2}=-6, \\\\\n",
        "4,5y_{1}+3y_{2}+y_{3}=-5.\n",
        "\\end{cases}$$\n",
        "\n",
        "$$y_{1}=1,$$\n",
        "$$y_{2}=-11,5,$$\n",
        "$$y_{3}=25.$$\n",
        "\n",
        "$$Ux=y:$$\n",
        "\n",
        "$$\\begin{cases}\n",
        "2x_{1}+x_{2}+3x_{3}=1, \\\\\n",
        "1,5x_{2}-11,5x_3=-11,5, \\\\\n",
        "25x_{3}=25.\n",
        "\\end{cases}$$\n",
        "\n",
        "$$x_{3}=1,$$\n",
        "$$x_{2}=0,$$\n",
        "$$x_{1}=-1.$$"
      ]
    },
    {
      "cell_type": "markdown",
      "metadata": {
        "id": "pjRty58pUmJq"
      },
      "source": [
        "__4*.__ Решить систему линейных уравнений методом Холецкого\n",
        "\n",
        "$$\\begin{cases}\n",
        "81x_{1}-45x_{2}+45x_{3}=531 \\\\\n",
        "-45x_{1}+50x_{2}-15x_{3}=-460 \\\\\n",
        "45x_{1}-15x_{2}+38x_{3}=193\n",
        "\\end{cases}$$"
      ]
    },
    {
      "cell_type": "markdown",
      "metadata": {
        "id": "_cNdlUj-H3ms"
      },
      "source": [
        "$$l_{11}=\\sqrt{a_{11}}=\\sqrt{81}=9,$$\n",
        "$$l_{21}=\\frac{a_{21}}{l_{11}}=\\frac{-45}{9}=-5,$$\n",
        "$$l_{31}=\\frac{a_{31}}{l_{11}}=\\frac{45}{9}=5,$$\n",
        "$$l_{22}=\\sqrt{a_{22}-l_{21}^{2}}=\\sqrt{50-(-5)^2}=5,$$\n",
        "$$l_{32}=\\frac{1}{l_{22}}\\left(a_{32}-l_{21}l_{31}\\right)=\\frac{1}{5}\\left(-15-\\left(-5\\right)\\cdot5\\right)=2,$$\n",
        "$$l_{33}=\\sqrt{a_{33}-l_{31}^{2}-l_{32}^{2}}=\\sqrt{38-5^{2}-2^{2}}=3.$$ \\\\\n",
        "\n",
        "$$L = \\begin{pmatrix}\n",
        "9 & 0 & 0 \\\\ \n",
        "-5 & 5 & 0 \\\\ \n",
        "5 & 2 & 3\n",
        "\\end{pmatrix}, \n",
        "\\; \\; \n",
        "L^{T} = \\begin{pmatrix}\n",
        "9 & -5 & 5 \\\\ \n",
        "0 & 5 & 2 \\\\ \n",
        "0 & 0 & 3\n",
        "\\end{pmatrix}.$$ \\\\\n",
        "\n",
        "$Ly=b:$\n",
        "\n",
        "$$\\begin{cases}\n",
        "9y_{1}=531, \\\\\n",
        "-5y_{1}+5y_{2}=-460, \\\\\n",
        "5y_{1}+2y_{2}+3y_{3}=193.\n",
        "\\end{cases}$$\n",
        "\n",
        "$$y_{1} = 59,$$\n",
        "\n",
        "$$y_{2}=\\frac{-460+5\\cdot59}{5}=-33,$$\n",
        "\n",
        "$$y_{3}=\\frac{193-5\\cdot59-2\\cdot\\left(-33\\right)}{3}=-12.$$ \\\\\n",
        "\n",
        "$L^{T}x=y:$\n",
        "\n",
        "$$\\begin{cases}\n",
        "9x_{1}-5x_{2}+5x_{3}=59, \\\\\n",
        "5x_{2}+2x_{3}=-33, \\\\\n",
        "3x_{3}=-12.\n",
        "\\end{cases}$$\n",
        "\n",
        "$$x_{3}=-4,$$\n",
        "\n",
        "$$x_{2}=\\frac{-33-2\\cdot\\left(-4\\right)}{5}=-5,$$\n",
        "\n",
        "$$x_{1}=\\frac{59+5\\cdot\\left(-5\\right)-5\\cdot\\left(-4\\right)}{9}=6.$$"
      ]
    },
    {
      "cell_type": "markdown",
      "metadata": {
        "id": "CgJIdxoMdtA_"
      },
      "source": [
        "__5*.__ Написать на Python программу с реализацией одного из изученных алгоритмов решения СЛАУ."
      ]
    },
    {
      "cell_type": "markdown",
      "metadata": {
        "id": "fhSzO38-g0jH"
      },
      "source": [
        "Реализация метода Крамера"
      ]
    },
    {
      "cell_type": "code",
      "metadata": {
        "id": "T9UK49QthACN",
        "colab": {
          "base_uri": "https://localhost:8080/"
        },
        "outputId": "d21b579c-5c16-4eca-8e02-7d386f5cb9f7"
      },
      "source": [
        "def kramer(a_):\n",
        "    a = []\n",
        "    for i in range(len(a_)):\n",
        "        a.append(a_[i][:-1])\n",
        "    detA = np.linalg.det(a)\n",
        "\n",
        "    if detA != 0:\n",
        "        result = []\n",
        "        for i in range(len(a[0])):\n",
        "            b = np.copy(a)\n",
        "            for j in range(len(b)):\n",
        "                b[j][i] = a_[j][-1]\n",
        "            detA_i = np.linalg.det(b)\n",
        "            result.append(round((detA_i/detA), 3))\n",
        "        return result\n",
        "    else:\n",
        "        print(f'Данная система несовместна.')\n",
        "        return None\n",
        "\n",
        "A = np.array([[1,-2,1],[3,-4,7]])\n",
        "print(kramer(A))\n",
        "B = np.array([[2,-1,5,10],[1,1,-3,-2],[2,4,1,1]])\n",
        "print(kramer(B))"
      ],
      "execution_count": null,
      "outputs": [
        {
          "output_type": "stream",
          "name": "stdout",
          "text": [
            "[5.0, 2.0]\n",
            "[2.0, -1.0, 1.0]\n"
          ]
        }
      ]
    }
  ]
}