{
  "nbformat": 4,
  "nbformat_minor": 0,
  "metadata": {
    "colab": {
      "name": "hw_1.ipynb",
      "provenance": []
    },
    "kernelspec": {
      "name": "python3",
      "display_name": "Python 3"
    },
    "language_info": {
      "name": "python"
    }
  },
  "cells": [
    {
      "cell_type": "markdown",
      "metadata": {
        "id": "dDNg8ULK7D0L"
      },
      "source": [
        "# Часть 1\n",
        "\n",
        "__1.__ Исследовать на линейную зависимость:\n",
        "\n",
        "$$f_{1}(x)=e^{x}, f_{2}(x)=1, f_{3}(x)=x+1, f_{4}(x)=x-e^{x}.$$"
      ]
    },
    {
      "cell_type": "markdown",
      "metadata": {
        "id": "-jVqltrd85WI"
      },
      "source": [
        "$f_{3}(x)-f_{2}(x)-f_{1}(x)=x+1-1-e^x=x-e^x=f_{4}(x)$ \\\\\n",
        "Одна из функций является линейной комбинацией трех остальных, значит, функции линейно зависимы.\n",
        "\n"
      ]
    },
    {
      "cell_type": "markdown",
      "metadata": {
        "id": "WqVgIcQy-lgA"
      },
      "source": [
        "__2.__ Исследовать на линейную зависимость:\n",
        "$$f_{1}(x)=2, f_{2}(x)=x, f_{3}(x)=x^{2}, f_{4}(x)=(x+1)^{2}$$"
      ]
    },
    {
      "cell_type": "markdown",
      "metadata": {
        "id": "4Lz8I8Nu-nNY"
      },
      "source": [
        "$f_{4}(x)=(x+1)^2=x^2+2x+1=f_{3}(x)+2f_{2}(x)+0,5f_{1}(x)$ \\\\\n",
        "Одна из функций является линейной комбинацией трех остальных, значит, функции линейно зависимы."
      ]
    },
    {
      "cell_type": "markdown",
      "metadata": {
        "id": "JxcEeeuIAVV0"
      },
      "source": [
        "__3.__ Найти координаты вектора $x = (2, 3, 5)\\in \\mathbb{R}^{3}$ в базисе $b_{1}=(0, 0, 10)$, $b_{2}=(2, 0, 0)$, $b_{3}=(0, 1, 0)$."
      ]
    },
    {
      "cell_type": "markdown",
      "metadata": {
        "id": "AqWNt1NEA4Kr"
      },
      "source": [
        "Базис линейного пространства $\\mathbb{R}^{3}$ образуют векторы \n",
        "$b_{1}=(0, 0, 10)$, $b_{2}=(2, 0, 0)$, $b_{3}=(0, 1, 0)$.\n",
        "Тогда \n",
        "\n",
        "$$x=(2, 3, 5)=(2,0,0)+(0, 3, 0)+(0, 0, 5)=(2, 0, 0)+3\\cdot(0, 1, 0)+0,5\\cdot(0, 0, 10)=0,5b_{1}+b_{2}+3b_{3},$$\n",
        "\n",
        "\n",
        "то есть координатами вектора $x$ в заданном базисе являются $0.5$, $1$, $3$."
      ]
    },
    {
      "cell_type": "markdown",
      "metadata": {
        "id": "IzZA3YRLEINa"
      },
      "source": [
        "__4.__ Найти координаты вектора $3x^{2}-2x+2\\in\\mathbb{R}^{3}[x]$:\n",
        "\n",
        "а) в базисе $1$, $x$, $x^{2}$;\n",
        "\n",
        "б) в базисе $x^{2}$, $x-1$, $1$."
      ]
    },
    {
      "cell_type": "markdown",
      "metadata": {
        "id": "FSfMKvzGFVAb"
      },
      "source": [
        "а) Базис линейного пространства $\\mathbb{R}^{3}$ образуют векторы \n",
        "$b_{1}=(1, 0, 0)$, $b_{2}=(0, x, 0)$, $b_{3}=(0, 0, x^2)$.\n",
        "Тогда \n",
        "$$3x^{2}-2x+2=2b_1-2b_2+3b_3$$\n",
        "то есть координаты вектора в заданном базисе - $(2, -2, 3)$."
      ]
    },
    {
      "cell_type": "markdown",
      "metadata": {
        "id": "dEWjAAZmKW2-"
      },
      "source": [
        "а) Базис линейного пространства $\\mathbb{R}^{3}$ образуют векторы \n",
        "$b_{1}=(x^2, 0, 0)$, $b_{2}=(0, x-1, 0)$, $b_{3}=(0, 0, 1)$.\n",
        "Тогда \n",
        "$$3x^{2}-2x+2=3b_1-2b_2+0b_3$$\n",
        "то есть координаты вектора в заданном базисе - $(3, -2, 0)$."
      ]
    },
    {
      "cell_type": "markdown",
      "metadata": {
        "id": "czKgej89LpHp"
      },
      "source": [
        "__5.__ Установить, является ли линейным подпространством:\n",
        "\n",
        "а) совокупность всех векторов трехмерного пространства, у которых по крайней мере одна из первых двух координат равна нулю;\n",
        "    \n",
        "б) все векторы, являющиеся линейными комбинациями данных векторов $\\{u_{1}, u_{2}, \\ldots, u_{n}\\}$."
      ]
    },
    {
      "cell_type": "markdown",
      "metadata": {
        "id": "faw3S0IR0JOf"
      },
      "source": [
        "a).  $x = (0, a, b), y = (c, 0,d)$ \\\\\n",
        "$x+y=(0, a, b) + (c, 0,d) = (c,a,b+d)$, таким образом мы уже выходим за рамки множества  векторов трехмерного пространства, у которых по крайней мере одна из первых двух координат равна нулю, следовательно данная совокупность не является  линейным подпространством.\n",
        "\n"
      ]
    },
    {
      "cell_type": "markdown",
      "metadata": {
        "id": "e8O3mv8r2Cup"
      },
      "source": [
        "б). $a = (\\lambda_1u_1+\\lambda_2u_2+...+\\lambda_nu_n), b = (\\mu_1u_1+\\mu_2u_2+...+\\mu_nu_n)$ \\\\\n",
        "$a + b=(\\lambda_1u_1+\\lambda_2u_2+...+\\lambda_nu_n) + (\\mu_1u_1+\\mu_2u_2+...+\\mu_nu_n) = ((\\lambda_1+\\mu_1)u_1+(\\lambda_2+\\mu_2)u_2+...+(\\lambda_n+\\mu_n)u_n)\\in L;$ \\\\\n",
        "$\\alpha \\cdot a= \\alpha \\cdot (\\lambda_1u_1+\\lambda_2u_2+...+\\lambda_nu_n)=\n",
        "(\\alpha \\lambda_1u_1+\\alpha \\lambda_2u_2+...+\\alpha \\lambda_nu_n)\\in L$ \\\\\n",
        "Таким образом мы не выходим за рамки множества векторов, являющиеся линейными комбинациями данных векторов $\\{u_{1}, u_{2}, \\ldots, u_{n}\\}$, следовательно данная совокупность является линейным подпространством."
      ]
    },
    {
      "cell_type": "markdown",
      "metadata": {
        "id": "6r8484IK9Y3D"
      },
      "source": [
        "# Часть 2\n",
        "__1.__ Найти скалярное произведение векторов $x, y \\in \\mathbb{R}$:<br>\n",
        "а) $x=(0,-3, 6),~y=(-4, 7, 9);$ \\\\\n",
        "$(x,y)=0\\cdot(-4)+(-3)\\cdot7+6\\cdot9=33$ \\\\\n",
        "<br>\n",
        "б) $x=(7, -4, 0, 1),~y=(-3, 1, 11, 2).$ \\\\\n",
        "$(x,y)=7\\cdot(-3)+(-4)\\cdot1+0\\cdot11+1\\cdot2=-21+(-4)+0+2=-23$"
      ]
    },
    {
      "cell_type": "markdown",
      "metadata": {
        "id": "uYOjWJqODkcI"
      },
      "source": [
        "__2.__ Найти нормы векторов $(4, 2, 4)$ и $(12, 3, 4)$ и угол между ними."
      ]
    },
    {
      "cell_type": "markdown",
      "metadata": {
        "id": "h9BKzXFqF6gG"
      },
      "source": [
        "$x=(4,2,4),~y=(12,3,4);$ \\\\\n",
        "$(x,y)=4\\cdot12+2\\cdot3+4\\cdot4=70$ \\\\\n",
        "$\\left\\|x\\right\\|_{1} = |4|+|2|+|4|=10$ \\\\\n",
        "$\\left\\|y\\right\\|_{1} = |12|+|3|+|4|=19$ \\\\\n",
        "$\\left\\|x\\right\\|_{2} = \\sqrt{4^{2}+2^{2}+4^{2}}=6$ \\\\\n",
        "$\\left\\|y\\right\\|_{2} = \\sqrt{12^{2}+3^{2}+4^{2}}=13$ \\\\\n",
        "$cos\\alpha=\\frac{(x, y)}{\\left|x\\right|\\cdot\\left|y\\right|}=\\frac{70}{6\\cdot13}=\\frac{35}{39}$ \\\\\n",
        "$\\alpha=\\arccos \\frac{35}{39}$"
      ]
    },
    {
      "cell_type": "code",
      "metadata": {
        "colab": {
          "base_uri": "https://localhost:8080/"
        },
        "id": "R7r7uQpfKuk1",
        "outputId": "759a9286-81ef-4a27-b62f-abfd8ba3144d"
      },
      "source": [
        "import numpy as np\n",
        "from numpy.linalg import norm\n",
        "\n",
        "x = np.array([4,2,4])\n",
        "y = np.array([12,3,4])\n",
        "cos_phi = np.dot(x,y) / norm(x) / norm(y)\n",
        "norm(x), norm(y), np.arccos(cos_phi)"
      ],
      "execution_count": null,
      "outputs": [
        {
          "output_type": "execute_result",
          "data": {
            "text/plain": [
              "(6.0, 13.0, 0.4568740035326613)"
            ]
          },
          "metadata": {},
          "execution_count": 8
        }
      ]
    },
    {
      "cell_type": "markdown",
      "metadata": {
        "id": "ktbW3r3yQJSq"
      },
      "source": [
        "__3.__ Будет ли линейное пространство евклидовым, если за скалярное произведение принять:<br>\n",
        "а) произведение длин векторов;<br>\n",
        "б) утроенное обычное скалярное произведение векторов?<br>"
      ]
    },
    {
      "cell_type": "markdown",
      "metadata": {
        "id": "ocfqeuFWvOBm"
      },
      "source": [
        "а). $(a,b)=||a||\\cdot||b||=||b||\\cdot||a||=(b,a)$ \\\\\n",
        "$(\\lambda a,b)=\\lambda\\cdot||a||\\cdot||b||=\\lambda\\cdot(a,b)$ \\\\\n",
        "$(a_1+a_2,b)=||a_1+a_2||\\cdot||b||=||a_1||\\cdot||b||+||a_2||\\cdot||b||=(a_1,b)+(a_2,b)$\n",
        "$(a,a)=||a||\\cdot||a||\\geq0$, при $a=0 \\Leftrightarrow ||a||\\cdot||a||=0$"
      ]
    },
    {
      "cell_type": "markdown",
      "metadata": {
        "id": "F7KGddNRQLHw"
      },
      "source": [
        "__4.__ Какие из нижеперечисленных векторов образуют ортонормированный базис в линейном пространстве $\\mathbb{R}^{3}$:<br>\n",
        "а) $(1,0,0),(0,0,1);$ <br>\n",
        "б) $(1/\\sqrt{2},-1/\\sqrt{2},0),(1/\\sqrt{2},1/\\sqrt{2},0), (0,0,1);$<br>\n",
        "в) $(1/2, -1/2, 0), (0, 1/2, 1/2), (0,0,1);$<br>\n",
        "г) $(1,0,0),(0,1,0),(0,0,1)?$ "
      ]
    },
    {
      "cell_type": "markdown",
      "metadata": {
        "id": "CfS8xSUFgBTN"
      },
      "source": [
        "а) $a = (1,0,0),b = (0,0,1);$ \\\\\n",
        "$(a,b)= 1\\cdot0+0\\cdot0+0\\cdot1=0$ \\\\\n",
        "$(a,a)= 1\\cdot1+0\\cdot0+0\\cdot0=1$ \\\\\n",
        "$(b,b)= 0\\cdot0+0\\cdot0+1\\cdot1=1$ \\\\\n",
        "a и b образуют ортонормированный базис в линейном пространстве $\\mathbb{R}^{3}$."
      ]
    },
    {
      "cell_type": "markdown",
      "metadata": {
        "id": "Joi2b1fxhX06"
      },
      "source": [
        "б) $a = (1/\\sqrt{2},-1/\\sqrt{2},0),b=(1/\\sqrt{2},1/\\sqrt{2},0), c=(0,0,1);$ \\\\\n",
        "$(a,b)=1/\\sqrt{2}\\cdot1/\\sqrt{2}+(-1/\\sqrt{2})\\cdot1/\\sqrt{2}+0\\cdot0=0;$ \\\\\n",
        "$(a,c)=1/\\sqrt{2}\\cdot0+(-1/\\sqrt{2})\\cdot0+0\\cdot1=0;$ \\\\\n",
        "$(b,c)=1/\\sqrt{2}\\cdot0+1/\\sqrt{2}\\cdot0+0\\cdot1=0;$ \\\\\n",
        "$(a,a)=1/\\sqrt{2}\\cdot1/\\sqrt{2}+(-1/\\sqrt{2})\\cdot(-1/\\sqrt{2})+0\\cdot0=1;$ \\\\\n",
        "$(b,b)=1/\\sqrt{2}\\cdot1/\\sqrt{2}+1/\\sqrt{2}\\cdot1/\\sqrt{2}+0\\cdot0=1;$ \\\\\n",
        "$(c,c)=0\\cdot0+0\\cdot0+1\\cdot1=1;$ \\\\\n",
        "a, b, c образуют ортонормированный базис в линейном пространстве $\\mathbb{R}^{3}$."
      ]
    },
    {
      "cell_type": "markdown",
      "metadata": {
        "id": "ZYvKB-D7k3V4"
      },
      "source": [
        "в) $a=(1/2, -1/2, 0), b=(0, 1/2, 1/2), c=(0,0,1);$ \\\\\n",
        "$(a,b)=1/2\\cdot0+(-1/2)\\cdot1/2+0\\cdot1/2=-1/4;$ \\\\\n",
        "$(a,c)=1/2\\cdot0+(-1/2)\\cdot0+0\\cdot1=0;$ \\\\\n",
        "$(b,c)=0\\cdot0+1/2\\cdot0+1/2\\cdot1=1/2;$ \\\\\n",
        "$(a,a)=1/2\\cdot1/2+(-1/2)\\cdot(-1/2)+0\\cdot0=1/2;$ \\\\\n",
        "a, b, c  не образуют ортонормированный базис в линейном пространстве $\\mathbb{R}^{3}$. \n"
      ]
    },
    {
      "cell_type": "markdown",
      "metadata": {
        "id": "VhCXb1RsoY93"
      },
      "source": [
        "г) $a=(1,0,0),b=(0,1,0),c=(0,0,1);$ \\\\\n",
        "$(a,b)=1\\cdot0+0\\cdot1+0\\cdot0=0;$ \\\\\n",
        "$(a,c)=1\\cdot0+0\\cdot0+0\\cdot1=0;$ \\\\\n",
        "$(b,c)=0\\cdot0+1\\cdot0+0\\cdot1=0;$ \\\\\n",
        "$(a,a)=1\\cdot1+0\\cdot0+0\\cdot0=1;$ \\\\\n",
        "$(b,b)=0\\cdot0+1\\cdot1+0\\cdot0=1;$ \\\\\n",
        "$(c,c)=0\\cdot0+0\\cdot0+1\\cdot1=1;$ \\\\\n",
        "a, b, c образуют ортонормированный базис в линейном пространстве $\\mathbb{R}^{3}$."
      ]
    }
  ]
}