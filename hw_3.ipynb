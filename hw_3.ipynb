{
  "nbformat": 4,
  "nbformat_minor": 0,
  "metadata": {
    "colab": {
      "name": "hw_3.ipynb",
      "provenance": []
    },
    "kernelspec": {
      "name": "python3",
      "display_name": "Python 3"
    },
    "language_info": {
      "name": "python"
    }
  },
  "cells": [
    {
      "cell_type": "markdown",
      "metadata": {
        "id": "C2KicOsEEIRo"
      },
      "source": [
        "\n",
        "__1.__ Найти собственные векторы и собственные значения для линейного оператора, заданного матрицей\n",
        "\n",
        "$$A=\\begin{pmatrix}\n",
        "-1 & -6\\\\ \n",
        "2 & 6\n",
        "\\end{pmatrix}.$$"
      ]
    },
    {
      "cell_type": "markdown",
      "metadata": {
        "id": "nDuYbZ_5TCQz"
      },
      "source": [
        "Найдём собственные значения.\n",
        "$$det(\\textbf{A}-\\lambda\\textbf{I})=\\begin{vmatrix}\n",
        "-1-\\lambda & -6\\\\ \n",
        "2 & 6-\\lambda\n",
        "\\end{vmatrix} = \\lambda^{2}-5\\lambda-6-(-12)= \\lambda^{2}-5\\lambda+6=0.$$\n",
        "$$\\lambda_1 = 2, \\lambda_2 = 3$$"
      ]
    },
    {
      "cell_type": "markdown",
      "metadata": {
        "id": "tkhvKyXIWLPX"
      },
      "source": [
        "Найдём собственные векторы для каждого собственного значения. \\\\\n",
        "При $\\lambda = 2:$\n",
        "$$\\begin{pmatrix}\n",
        "-1 & -6\\\\ \n",
        "2 & 6\n",
        "\\end{pmatrix}\n",
        "\\begin{pmatrix}\n",
        "x_1\\\\ \n",
        "x_2\n",
        "\\end{pmatrix}=\n",
        "2\n",
        "\\begin{pmatrix}\n",
        "x_1\\\\ \n",
        "x_2\n",
        "\\end{pmatrix}.\n",
        "$$\n",
        "$$\\begin{cases}\n",
        "-x_1-6x_2=2x_1 \\\\ \n",
        "2x_1+6x_2=2x_2\n",
        "\\end{cases}\n",
        "\\Rightarrow\n",
        "x_1=-2x_2\n",
        "$$\n",
        "$x=(2,-1)$\n",
        "\n"
      ]
    },
    {
      "cell_type": "markdown",
      "metadata": {
        "id": "JXbmwtafbE94"
      },
      "source": [
        "При $\\lambda = 3:$\n",
        "$$\\begin{pmatrix}\n",
        "-1 & -6\\\\ \n",
        "2 & 6\n",
        "\\end{pmatrix}\n",
        "\\begin{pmatrix}\n",
        "x_1\\\\ \n",
        "x_2\n",
        "\\end{pmatrix}=\n",
        "3\n",
        "\\begin{pmatrix}\n",
        "x_1\\\\ \n",
        "x_2\n",
        "\\end{pmatrix}.\n",
        "$$\n",
        "$$\\begin{cases}\n",
        "-x_1-6x_2=3x_1 \\\\ \n",
        "2x_1+6x_2=3x_2\n",
        "\\end{cases}\n",
        "\\Rightarrow\n",
        "x_1=-1,5x_2\n",
        "$$\n",
        "$x=(3,-2)$"
      ]
    },
    {
      "cell_type": "markdown",
      "metadata": {
        "id": "GyI17oP6EjYd"
      },
      "source": [
        "__2.__ Дан оператор поворота на 180 градусов, задаваемый матрицей \n",
        "\n",
        "$$A=\\begin{pmatrix}\n",
        "-1 & 0\\\\ \n",
        "0 & -1\n",
        "\\end{pmatrix}.$$\n",
        "\n",
        "Показать, что __любой__ вектор является для него собственным."
      ]
    },
    {
      "cell_type": "markdown",
      "metadata": {
        "id": "FnLRcvaWLpcd"
      },
      "source": [
        "Предположим, что произвольный вектор $x=(x_1,x_2)$ является собственным вектором заданного линейного оператора, тогда должно существовать некоторое вещественное число $\\lambda$, при котором \n",
        "$$\\begin{pmatrix}\n",
        "-1 & 0\\\\ \n",
        "0 & -1\n",
        "\\end{pmatrix}\n",
        "\\begin{pmatrix}\n",
        "x_1\\\\ \n",
        "x_2\n",
        "\\end{pmatrix}=\n",
        "\\lambda\n",
        "\\begin{pmatrix}\n",
        "x_1\\\\ \n",
        "x_2\n",
        "\\end{pmatrix}.\n",
        "$$\n",
        "Из этого будет следовать, что \n",
        "$$\\begin{cases}\n",
        "-x_1+0=x_1\\cdot\\lambda \\\\ \n",
        "0-x_2=x_2\\cdot \\lambda\n",
        "\\end{cases}\n",
        "\\Rightarrow\n",
        "\\lambda=-1.$$\n",
        "Таким образом, любой вектор будет собственным вектором линейного оператора, заданного матрицей $A$, и его собственное значение составляет $\\lambda=-1.$"
      ]
    },
    {
      "cell_type": "markdown",
      "metadata": {
        "id": "397rU3VCElA4"
      },
      "source": [
        "__3.__ Пусть линейный оператор задан матрицей\n",
        "\n",
        "$$A=\\begin{pmatrix}\n",
        "1 & 1\\\\ \n",
        "-1 & 3\n",
        "\\end{pmatrix}.$$\n",
        "\n",
        "Установить, является ли вектор $x=(1,1)$ собственным вектором этого линейного оператора."
      ]
    },
    {
      "cell_type": "markdown",
      "metadata": {
        "id": "R2KWGUizFTrl"
      },
      "source": [
        "Предположим, что вектор $x$ является собственным вектором заданного линейного оператора, тогда должно существовать некоторое вещественное число $\\lambda$, при котором \n",
        "$$\\begin{pmatrix}\n",
        "1 & 1\\\\ \n",
        "-1 & 3\n",
        "\\end{pmatrix}\n",
        "\\begin{pmatrix}\n",
        "1\\\\ \n",
        "1 \n",
        "\\end{pmatrix}=\n",
        "\\lambda\n",
        "\\begin{pmatrix}\n",
        "1\\\\ \n",
        "1\n",
        "\\end{pmatrix}.\n",
        "$$\n",
        "Из этого будет следовать, что \n",
        "$$\\begin{cases}\n",
        "1+1=1\\cdot\\lambda \\\\ \n",
        "-1+3 = 1\\cdot \\lambda\n",
        "\\end{cases}\n",
        "\\Rightarrow\n",
        "\\lambda=2.$$\n",
        "Таким образом, вектор $x=(1,1)$ является собственным вектором линейного оператора, заданного матрицей $A$, и его собственное значение составляет $\\lambda=2.$"
      ]
    },
    {
      "cell_type": "markdown",
      "metadata": {
        "id": "FLP_NSppEsoG"
      },
      "source": [
        "**4.** Пусть линейный оператор задан матрицей\n",
        "\n",
        "$$A=\\begin{pmatrix} 0 & 3 & 0\\\\ 3 & 0 & 0\\\\ 0 & 0 & 3 \\end{pmatrix}.$$\n",
        "\n",
        "Установить, является ли вектор $x=(3, -3, -4)$ собственным вектором этого линейного оператора."
      ]
    },
    {
      "cell_type": "markdown",
      "metadata": {
        "id": "NPXDGdRCII1L"
      },
      "source": [
        "Предположим, что вектор $x$ является собственным вектором заданного линейного оператора, тогда должно существовать некоторое вещественное число $\\lambda$, при котором \n",
        "$$\\begin{pmatrix}\n",
        "0 & 3 & 0\\\\\n",
        "3 & 0 & 0\\\\\n",
        "0 & 0 & 3\n",
        "\\end{pmatrix}\n",
        "\\begin{pmatrix}\n",
        "3\\\\ \n",
        "-3\\\\\n",
        "-4 \n",
        "\\end{pmatrix}=\n",
        "\\lambda\n",
        "\\begin{pmatrix}\n",
        "3\\\\ \n",
        "-3\\\\\n",
        "-4 \n",
        "\\end{pmatrix}.\n",
        "$$\n",
        "Из этого будет следовать, что \n",
        "$$\\begin{cases}\n",
        "0-9+0=3\\cdot\\lambda \\\\ \n",
        "9+0+0=-3\\cdot \\lambda \\\\ \n",
        "0+0-12=-4\\cdot \\lambda\n",
        "\\end{cases}\n",
        "\\Rightarrow\n",
        "\\begin{cases}\n",
        "\\lambda=-3\\\\ \n",
        "\\lambda=-3\\\\ \n",
        "\\lambda=3\n",
        "\\end{cases}.$$\n",
        "\n",
        "Такая система не имеет смысла, следовательно, вектор $x=(3, -3, -4)$ не является собственным вектором линейного оператора, заданного матрицей $A$."
      ]
    }
  ]
}