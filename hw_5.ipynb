{
  "nbformat": 4,
  "nbformat_minor": 0,
  "metadata": {
    "colab": {
      "name": "hw_5.ipynb",
      "provenance": []
    },
    "kernelspec": {
      "name": "python3",
      "display_name": "Python 3"
    },
    "language_info": {
      "name": "python"
    }
  },
  "cells": [
    {
      "cell_type": "markdown",
      "metadata": {
        "id": "b-WKzoJi46QV"
      },
      "source": [
        "1. Найти с помощью NumPy SVD для матрицы\n",
        "\n",
        "$$\\begin{pmatrix}\n",
        "1 & 2 & 0\\\\ \n",
        "0 & 0 & 5\\\\ \n",
        "3 & -4 & 2\\\\ \n",
        "1 & 6 & 5\\\\ \n",
        "0 & 1 & 0\n",
        "\\end{pmatrix}.$$"
      ]
    },
    {
      "cell_type": "code",
      "metadata": {
        "colab": {
          "base_uri": "https://localhost:8080/"
        },
        "id": "xo9xsYJk4YBn",
        "outputId": "de9328f2-fcc7-4c04-aa6e-4fe2f754e7df"
      },
      "source": [
        "import numpy as np\n",
        "\n",
        "A = np.array([[1,2,0],[0,0,5],[3,-4,2],[1,6,5],[0,1,0]])\n",
        "print(f'Матрица A:\\n{A}')"
      ],
      "execution_count": 2,
      "outputs": [
        {
          "output_type": "stream",
          "name": "stdout",
          "text": [
            "Матрица A:\n",
            "[[ 1  2  0]\n",
            " [ 0  0  5]\n",
            " [ 3 -4  2]\n",
            " [ 1  6  5]\n",
            " [ 0  1  0]]\n"
          ]
        }
      ]
    },
    {
      "cell_type": "code",
      "metadata": {
        "colab": {
          "base_uri": "https://localhost:8080/"
        },
        "id": "h9D9WqFI6s9T",
        "outputId": "d52cfb6c-3c27-46ce-f433-32f4ce379c45"
      },
      "source": [
        "U, d, V_t = np.linalg.svd(A)\n",
        "\n",
        "V = V_t.T\n",
        "\n",
        "D = np.zeros_like(A, dtype=float)\n",
        "D[np.diag_indices(min(A.shape))] = d\n",
        "\n",
        "print(f'Матрица U:\\n{U.round(5)}\\nМатрица D:\\n{D.round(5)}\\nМатрица V:\\n{V.round(5)}')"
      ],
      "execution_count": 13,
      "outputs": [
        {
          "output_type": "stream",
          "name": "stdout",
          "text": [
            "Матрица U:\n",
            "[[ 0.17057  0.15681 -0.53078 -0.79905 -0.16158]\n",
            " [ 0.39287 -0.52934  0.61348 -0.43376  0.03082]\n",
            " [-0.14366 -0.82449 -0.52379  0.1405   0.074  ]\n",
            " [ 0.88844  0.06074 -0.24655  0.37756 -0.06043]\n",
            " [ 0.08125  0.10832 -0.08231 -0.10525  0.98174]]\n",
            "Матрица D:\n",
            "[[8.82487 0.      0.     ]\n",
            " [0.      6.14061 0.     ]\n",
            " [0.      0.      2.53272]\n",
            " [0.      0.      0.     ]\n",
            " [0.      0.      0.     ]]\n",
            "Матрица V:\n",
            "[[ 0.07116 -0.36738 -0.92735]\n",
            " [ 0.71702  0.66514 -0.20848]\n",
            " [ 0.69341 -0.65009  0.31075]]\n"
          ]
        }
      ]
    },
    {
      "cell_type": "code",
      "metadata": {
        "colab": {
          "base_uri": "https://localhost:8080/"
        },
        "id": "d5l4jho875-7",
        "outputId": "a85be3d5-9b2b-4c65-e82f-c51bab9322bc"
      },
      "source": [
        "# Проведем проверку\n",
        "print(np.dot(np.dot(U, D), V.T).round(5))"
      ],
      "execution_count": 12,
      "outputs": [
        {
          "output_type": "stream",
          "name": "stdout",
          "text": [
            "[[ 1.  2.  0.]\n",
            " [ 0. -0.  5.]\n",
            " [ 3. -4.  2.]\n",
            " [ 1.  6.  5.]\n",
            " [-0.  1. -0.]]\n"
          ]
        }
      ]
    },
    {
      "cell_type": "markdown",
      "metadata": {
        "id": "daslemVN4-7g"
      },
      "source": [
        "2. Для матрицы из предыдущего задания найти:\n",
        "\n",
        "    а) евклидову норму;\n",
        "    \n",
        "    б) норму Фробениуса."
      ]
    },
    {
      "cell_type": "code",
      "metadata": {
        "colab": {
          "base_uri": "https://localhost:8080/"
        },
        "id": "Fygw8U3B9v60",
        "outputId": "52f6be9f-35ce-463e-d50d-1afd0033304c"
      },
      "source": [
        "euclid_norm = np.linalg.norm(A, ord=2, axis=None, keepdims=False)\n",
        "print(f'Евклидова норма: {euclid_norm:.5f}')"
      ],
      "execution_count": 18,
      "outputs": [
        {
          "output_type": "stream",
          "name": "stdout",
          "text": [
            "Евклидова норма: 8.82487\n"
          ]
        }
      ]
    },
    {
      "cell_type": "code",
      "metadata": {
        "colab": {
          "base_uri": "https://localhost:8080/"
        },
        "id": "UjgbTAdx-THL",
        "outputId": "923eff3e-dc85-4606-bdaf-6a764e36e9cb"
      },
      "source": [
        "# Проведем проверку\n",
        "euclid_norm.round(5) == D[0][0].round(5)"
      ],
      "execution_count": 19,
      "outputs": [
        {
          "output_type": "execute_result",
          "data": {
            "text/plain": [
              "True"
            ]
          },
          "metadata": {},
          "execution_count": 19
        }
      ]
    },
    {
      "cell_type": "code",
      "metadata": {
        "colab": {
          "base_uri": "https://localhost:8080/"
        },
        "id": "0yvVcmnM_NnN",
        "outputId": "6c6dccab-bb29-4e85-e41e-55cfdcec27bb"
      },
      "source": [
        "frobenius_norm = np.linalg.norm(A, ord='fro', axis=None, keepdims=False)\n",
        "print(f'Норма Фробениуса: {frobenius_norm:.5f}')"
      ],
      "execution_count": 22,
      "outputs": [
        {
          "output_type": "stream",
          "name": "stdout",
          "text": [
            "Норма Фробениуса: 11.04536\n"
          ]
        }
      ]
    },
    {
      "cell_type": "code",
      "metadata": {
        "colab": {
          "base_uri": "https://localhost:8080/"
        },
        "id": "lRrPo5LTBA04",
        "outputId": "7cefa732-d44e-4b50-c8cf-aae1beb9e25b"
      },
      "source": [
        "# Проведем проверку\n",
        "summa = 0\n",
        "for i in range(0, len(D[0])):\n",
        "    summa += D[i][i]**2\n",
        "test_frobenius_norm = summa**0.5\n",
        "test_frobenius_norm == frobenius_norm"
      ],
      "execution_count": 32,
      "outputs": [
        {
          "output_type": "execute_result",
          "data": {
            "text/plain": [
              "True"
            ]
          },
          "metadata": {},
          "execution_count": 32
        }
      ]
    }
  ]
}